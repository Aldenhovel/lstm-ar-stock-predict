{
 "cells": [
  {
   "cell_type": "raw",
   "id": "4b3df595-ee50-4b52-a248-6f8a4050eddc",
   "metadata": {},
   "source": [
    "import tushare as ts\n",
    "import yaml\n",
    "import datetime\n",
    "\n",
    "\n",
    "def get_sample_by_code(symbol, end_date, time_delta=90):\n",
    "    start_date = end_date - datetime.timedelta(days=time_delta)\n",
    "    stdcode = symbol[:-3]\n",
    "    df = ts.get_hist_data(stdcode, start=str(start_date), end=str(end_date))\n",
    "    try:\n",
    "        df['lastday'] = df['close'] - df['price_change']\n",
    "        pct_chg = [*df['p_change']][::-1]\n",
    "        sample = {\n",
    "            'date': datetime.datetime.today(),\n",
    "            'start': str(start_date),\n",
    "            'end': str(end_date),\n",
    "            'code': stdcode,\n",
    "            'stdchange': pct_chg,\n",
    "        }\n",
    "\n",
    "        with open(f'./data/test/{stdcode}.yaml', 'w+') as f:\n",
    "            yaml.dump(sample, f)\n",
    "    except Exception as e:\n",
    "        print(e)\n",
    "    print(f'Done.')\n",
    "    print(f'Sample saved in [./data/{stdcode}.yaml]')\n",
    "    print(f'Seqlen of this sample: [{len(pct_chg)}], while time delta is [{time_delta}]')"
   ]
  },
  {
   "cell_type": "raw",
   "id": "f57feaa5-faf8-4341-951c-c63a8cb9bb11",
   "metadata": {},
   "source": [
    "end_date = datetime.date(2023, 12, 27)\n",
    "get_sample_by_code('300364.SZ', end_date)"
   ]
  },
  {
   "cell_type": "code",
   "execution_count": null,
   "id": "0849a8d7-7458-47df-bada-8e0ffc2257e0",
   "metadata": {},
   "outputs": [],
   "source": []
  }
 ],
 "metadata": {
  "kernelspec": {
   "display_name": "Python 3 (ipykernel)",
   "language": "python",
   "name": "python3"
  },
  "language_info": {
   "codemirror_mode": {
    "name": "ipython",
    "version": 3
   },
   "file_extension": ".py",
   "mimetype": "text/x-python",
   "name": "python",
   "nbconvert_exporter": "python",
   "pygments_lexer": "ipython3",
   "version": "3.7.0"
  }
 },
 "nbformat": 4,
 "nbformat_minor": 5
}
