{
 "cells": [
  {
   "cell_type": "code",
   "execution_count": 5,
   "id": "f75bede1-9a60-4f4a-a4cc-514a8253e7f5",
   "metadata": {},
   "outputs": [],
   "source": [
    "import tushare as ts\n",
    "import yaml\n",
    "import datetime\n",
    "\n",
    "\n",
    "def get_sample_by_code(symbol, end_date, time_delta=90):\n",
    "    start_date = end_date - datetime.timedelta(days=time_delta)\n",
    "    stdcode = symbol[:-3]\n",
    "    df = ts.get_hist_data(stdcode, start=str(start_date), end=str(end_date))\n",
    "    try:\n",
    "        df['lastday'] = df['close'] - df['price_change']\n",
    "        pct_chg = [*df['p_change']][::-1]\n",
    "        sample = {\n",
    "            'date': datetime.datetime.today(),\n",
    "            'start': str(start_date),\n",
    "            'end': str(end_date),\n",
    "            'code': stdcode,\n",
    "            'stdchange': pct_chg,\n",
    "        }\n",
    "\n",
    "        with open(f'./data/test/{stdcode}.yaml', 'w+') as f:\n",
    "            yaml.dump(sample, f)\n",
    "    except Exception as e:\n",
    "        print(e)\n",
    "    print(f'Done.')\n",
    "    print(f'Sample saved in [./data/{stdcode}.yaml]')\n",
    "    print(f'Seqlen of this sample: [{len(pct_chg)}], while time delta is [{time_delta}]')"
   ]
  },
  {
   "cell_type": "code",
   "execution_count": 6,
   "id": "3c71e563-e8ea-4c17-83e9-9ecc36f226e8",
   "metadata": {},
   "outputs": [
    {
     "name": "stdout",
     "output_type": "stream",
     "text": [
      "[Errno 22] Invalid argument: './data/test\"/002786.yaml'\n",
      "Done.\n"
     ]
    },
    {
     "ename": "NameError",
     "evalue": "name 'DIR' is not defined",
     "output_type": "error",
     "traceback": [
      "\u001b[1;31m---------------------------------------------------------------------------\u001b[0m",
      "\u001b[1;31mNameError\u001b[0m                                 Traceback (most recent call last)",
      "\u001b[1;32m~\\AppData\\Local\\Temp\\ipykernel_9440\\455055876.py\u001b[0m in \u001b[0;36m<module>\u001b[1;34m\u001b[0m\n\u001b[0;32m      1\u001b[0m \u001b[0mend_date\u001b[0m \u001b[1;33m=\u001b[0m \u001b[0mdatetime\u001b[0m\u001b[1;33m.\u001b[0m\u001b[0mdate\u001b[0m\u001b[1;33m(\u001b[0m\u001b[1;36m2024\u001b[0m\u001b[1;33m,\u001b[0m \u001b[1;36m1\u001b[0m\u001b[1;33m,\u001b[0m \u001b[1;36m2\u001b[0m\u001b[1;33m)\u001b[0m\u001b[1;33m\u001b[0m\u001b[0m\n\u001b[1;32m----> 2\u001b[1;33m \u001b[0mget_sample_by_code\u001b[0m\u001b[1;33m(\u001b[0m\u001b[1;34m'002786.SZ'\u001b[0m\u001b[1;33m,\u001b[0m \u001b[0mend_date\u001b[0m\u001b[1;33m)\u001b[0m\u001b[1;33m\u001b[0m\u001b[0m\n\u001b[0m",
      "\u001b[1;32m~\\AppData\\Local\\Temp\\ipykernel_9440\\2423262418.py\u001b[0m in \u001b[0;36mget_sample_by_code\u001b[1;34m(symbol, end_date, time_delta)\u001b[0m\n\u001b[0;32m     24\u001b[0m         \u001b[0mprint\u001b[0m\u001b[1;33m(\u001b[0m\u001b[0me\u001b[0m\u001b[1;33m)\u001b[0m\u001b[1;33m\u001b[0m\u001b[0m\n\u001b[0;32m     25\u001b[0m     \u001b[0mprint\u001b[0m\u001b[1;33m(\u001b[0m\u001b[1;34mf'Done.'\u001b[0m\u001b[1;33m)\u001b[0m\u001b[1;33m\u001b[0m\u001b[0m\n\u001b[1;32m---> 26\u001b[1;33m     \u001b[0mprint\u001b[0m\u001b[1;33m(\u001b[0m\u001b[1;34mf'Sample saved in [{DIR}/{stdcode}.yaml]'\u001b[0m\u001b[1;33m)\u001b[0m\u001b[1;33m\u001b[0m\u001b[0m\n\u001b[0m\u001b[0;32m     27\u001b[0m     \u001b[0mprint\u001b[0m\u001b[1;33m(\u001b[0m\u001b[1;34mf'Seqlen of this sample: [{len(pct_chg)}], while time delta is [{time_delta}]'\u001b[0m\u001b[1;33m)\u001b[0m\u001b[1;33m\u001b[0m\u001b[0m\n",
      "\u001b[1;31mNameError\u001b[0m: name 'DIR' is not defined"
     ]
    }
   ],
   "source": [
    "end_date = datetime.date(2024, 1, 2)\n",
    "get_sample_by_code('002786.SZ', end_date)"
   ]
  },
  {
   "cell_type": "code",
   "execution_count": null,
   "id": "0849a8d7-7458-47df-bada-8e0ffc2257e0",
   "metadata": {},
   "outputs": [],
   "source": []
  }
 ],
 "metadata": {
  "kernelspec": {
   "display_name": "Python 3 (ipykernel)",
   "language": "python",
   "name": "python3"
  },
  "language_info": {
   "codemirror_mode": {
    "name": "ipython",
    "version": 3
   },
   "file_extension": ".py",
   "mimetype": "text/x-python",
   "name": "python",
   "nbconvert_exporter": "python",
   "pygments_lexer": "ipython3",
   "version": "3.9.13"
  }
 },
 "nbformat": 4,
 "nbformat_minor": 5
}
