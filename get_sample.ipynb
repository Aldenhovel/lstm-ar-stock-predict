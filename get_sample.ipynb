{
 "cells": [
  {
   "cell_type": "raw",
   "id": "b3bcc4c6-15ae-4dce-8842-5663010c9190",
   "metadata": {
    "tags": []
   },
   "source": [
    "import tushare as ts\n",
    "import yaml\n",
    "import datetime\n",
    "import json\n",
    "    \n",
    "def get_sample_by_code(symbol, end_date='2024-02-22', time_delta=90):\n",
    "    stdcode = symbol[:-3]\n",
    "    # old API\n",
    "    # df = ts.get_hist_data(stdcode, start=str(start_date), end=str(end_date))\n",
    "\n",
    "    # new API require token\n",
    "    with open('./gui/config.json', 'r') as f:\n",
    "        config = json.load(f)\n",
    "        assert config['tushare_api_token'], \"tushare api token not found in config.json\"\n",
    "\n",
    "    pro = ts.pro_api(config['tushare_api_token'])\n",
    "    df = pro.daily(**{\n",
    "        \"ts_code\": symbol,\n",
    "        \"trade_date\": \"\",\n",
    "        \"start_date\": \"\",\n",
    "        \"end_date\": int(''.join([str(x) for x in end_date.split('-')])),\n",
    "        \"offset\": \"\",\n",
    "        \"limit\": 90 - 1,\n",
    "    }, fields=[\n",
    "        \"pct_chg\",\n",
    "        \"ts_code\",\n",
    "        \"trade_date\"\n",
    "    ])\n",
    "    try:\n",
    "        pct_chg = [*df['pct_chg']][::-1]\n",
    "        sample = {\n",
    "            'date': datetime.datetime.today(),\n",
    "            'end': str(end_date),\n",
    "            'code': stdcode,\n",
    "            'stdchange': pct_chg,\n",
    "        }\n",
    "\n",
    "        with open(f'../data/test/{stdcode}.yaml', 'w+') as f:\n",
    "            yaml.dump(sample, f)\n",
    "    except Exception as e:\n",
    "        print(e)\n",
    "    print(f'Done.')\n",
    "    print(f'Sample saved in [../data/test/{stdcode}.yaml]')\n",
    "    print(f'Seqlen of this sample: [{len(pct_chg)}], while time delta is [{time_delta}]')"
   ]
  },
  {
   "cell_type": "raw",
   "id": "9787495a-68b8-44f7-8ab1-089ece1f0940",
   "metadata": {
    "tags": []
   },
   "source": [
    "end_date = '2024-02-24'\n",
    "get_sample_by_code('300364.SZ', end_date)"
   ]
  },
  {
   "cell_type": "code",
   "execution_count": null,
   "id": "0849a8d7-7458-47df-bada-8e0ffc2257e0",
   "metadata": {},
   "outputs": [],
   "source": []
  }
 ],
 "metadata": {
  "kernelspec": {
   "display_name": "Python 3 (ipykernel)",
   "language": "python",
   "name": "python3"
  },
  "language_info": {
   "codemirror_mode": {
    "name": "ipython",
    "version": 3
   },
   "file_extension": ".py",
   "mimetype": "text/x-python",
   "name": "python",
   "nbconvert_exporter": "python",
   "pygments_lexer": "ipython3",
   "version": "3.7.16"
  }
 },
 "nbformat": 4,
 "nbformat_minor": 5
}
